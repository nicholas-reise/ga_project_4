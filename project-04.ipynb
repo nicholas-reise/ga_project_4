{
 "cells": [
  {
   "cell_type": "markdown",
   "metadata": {},
   "source": [
    "# Project 4\n"
   ]
  },
  {
   "cell_type": "code",
   "execution_count": 3,
   "metadata": {
    "collapsed": true
   },
   "outputs": [],
   "source": [
    "###########\n",
    "# Imports #\n",
    "###########"
   ]
  },
  {
   "cell_type": "code",
   "execution_count": 4,
   "metadata": {},
   "outputs": [
    {
     "name": "stdout",
     "output_type": "stream",
     "text": [
      "Requirement already satisfied: psycopg2 in /opt/conda/lib/python3.5/site-packages\r\n"
     ]
    }
   ],
   "source": [
    "!pip install psycopg2"
   ]
  },
  {
   "cell_type": "code",
   "execution_count": 5,
   "metadata": {
    "collapsed": true
   },
   "outputs": [],
   "source": [
    "import requests\n",
    "import pandas as pd\n",
    "import psycopg2 as pg2\n",
    "from psycopg2.extras import RealDictCursor\n",
    "import re\n",
    "import numpy as np"
   ]
  },
  {
   "cell_type": "code",
   "execution_count": 6,
   "metadata": {
    "collapsed": true
   },
   "outputs": [],
   "source": [
    "#######################################\n",
    "# Regular Expression Cleaner Function #\n",
    "#######################################"
   ]
  },
  {
   "cell_type": "code",
   "execution_count": 7,
   "metadata": {
    "collapsed": true
   },
   "outputs": [],
   "source": [
    "def cleaner(message):\n",
    "    message = re.sub('\\.+', ' ', message)\n",
    "    message = re.sub('[^a-z0-9 ]','', message.lower())\n",
    "    message = re.sub('\\d+','NUMBER ',message)\n",
    "    message = re.sub('\\s+',' ',message)\n",
    "    return message"
   ]
  },
  {
   "cell_type": "code",
   "execution_count": 8,
   "metadata": {
    "collapsed": true
   },
   "outputs": [],
   "source": [
    "########################\n",
    "# Part 1 -- Collection #\n",
    "########################"
   ]
  },
  {
   "cell_type": "code",
   "execution_count": 9,
   "metadata": {
    "collapsed": true
   },
   "outputs": [],
   "source": [
    "# The baseurl below is passed to the requests.get() method.\n",
    "baseurl = 'http://en.wikipedia.org/w/api.php'\n",
    "\n",
    "# All of the parameters for the .get() are put into a dictionary.\n",
    "my_atts = {}\n",
    "my_atts['action'] = 'query'  # action=query\n",
    "my_atts['prop'] = 'info'     # prop=info\n",
    "my_atts['format'] = 'json'   # format=json\n",
    "my_atts['list'] = 'categorymembers'\n",
    "my_atts['cmtitle'] = 'Category:Machine_learning'\n",
    "my_atts['cmlimit'] = 'max'\n",
    "\n",
    "# Here is teh response object\n",
    "resp = requests.get(baseurl, params = my_atts)\n",
    "\n",
    "# Putting the json into a variable\n",
    "data = resp.json()"
   ]
  },
  {
   "cell_type": "code",
   "execution_count": 10,
   "metadata": {},
   "outputs": [
    {
     "data": {
      "text/plain": [
       "'https://en.wikipedia.org/w/api.php?action=query&prop=info&cmtitle=Category%3AMachine_learning&format=json&cmlimit=max&list=categorymembers'"
      ]
     },
     "execution_count": 10,
     "metadata": {},
     "output_type": "execute_result"
    }
   ],
   "source": [
    "# Testing the .get()\n",
    "resp.url"
   ]
  },
  {
   "cell_type": "code",
   "execution_count": 12,
   "metadata": {
    "collapsed": true,
    "scrolled": true
   },
   "outputs": [],
   "source": [
    "# Stepping down into the dict to access the list of categories which contains the pageid, which will be used in the \n",
    "# next api call\n",
    "\n",
    "data['query']['categorymembers']\n"
   ]
  },
  {
   "cell_type": "code",
   "execution_count": 19,
   "metadata": {
    "collapsed": true
   },
   "outputs": [],
   "source": [
    "# Reassigning the list back to data.\n",
    "data = data['query']['categorymembers']\n"
   ]
  },
  {
   "cell_type": "code",
   "execution_count": 23,
   "metadata": {
    "collapsed": true
   },
   "outputs": [],
   "source": [
    "# Turning the dict into a df\n",
    "pid_df = pd.DataFrame(data, columns=['pageid', 'title'])"
   ]
  },
  {
   "cell_type": "code",
   "execution_count": 24,
   "metadata": {
    "collapsed": true
   },
   "outputs": [],
   "source": [
    "# There are a bunch a sub-category pages listed, so this mask will remove them.\n",
    "mask = pid_df['title'].str.contains(\"Category\")\n",
    "pid_df = pid_df[~mask]\n"
   ]
  },
  {
   "cell_type": "code",
   "execution_count": 26,
   "metadata": {
    "scrolled": true
   },
   "outputs": [
    {
     "data": {
      "text/html": [
       "<div>\n",
       "<table border=\"1\" class=\"dataframe\">\n",
       "  <thead>\n",
       "    <tr style=\"text-align: right;\">\n",
       "      <th></th>\n",
       "      <th>pageid</th>\n",
       "      <th>title</th>\n",
       "    </tr>\n",
       "  </thead>\n",
       "  <tbody>\n",
       "    <tr>\n",
       "      <th>0</th>\n",
       "      <td>54972729</td>\n",
       "      <td>User:CustIntelMngt/sandbox/Customer Intelligen...</td>\n",
       "    </tr>\n",
       "    <tr>\n",
       "      <th>1</th>\n",
       "      <td>43385931</td>\n",
       "      <td>Data exploration</td>\n",
       "    </tr>\n",
       "    <tr>\n",
       "      <th>2</th>\n",
       "      <td>49082762</td>\n",
       "      <td>List of datasets for machine learning research</td>\n",
       "    </tr>\n",
       "    <tr>\n",
       "      <th>3</th>\n",
       "      <td>233488</td>\n",
       "      <td>Machine learning</td>\n",
       "    </tr>\n",
       "    <tr>\n",
       "      <th>4</th>\n",
       "      <td>53587467</td>\n",
       "      <td>Outline of machine learning</td>\n",
       "    </tr>\n",
       "    <tr>\n",
       "      <th>5</th>\n",
       "      <td>3771060</td>\n",
       "      <td>Accuracy paradox</td>\n",
       "    </tr>\n",
       "    <tr>\n",
       "      <th>6</th>\n",
       "      <td>43808044</td>\n",
       "      <td>Action model learning</td>\n",
       "    </tr>\n",
       "    <tr>\n",
       "      <th>7</th>\n",
       "      <td>28801798</td>\n",
       "      <td>Active learning (machine learning)</td>\n",
       "    </tr>\n",
       "    <tr>\n",
       "      <th>8</th>\n",
       "      <td>45049676</td>\n",
       "      <td>Adversarial machine learning</td>\n",
       "    </tr>\n",
       "    <tr>\n",
       "      <th>9</th>\n",
       "      <td>52642349</td>\n",
       "      <td>AIVA</td>\n",
       "    </tr>\n",
       "  </tbody>\n",
       "</table>\n",
       "</div>"
      ],
      "text/plain": [
       "     pageid                                              title\n",
       "0  54972729  User:CustIntelMngt/sandbox/Customer Intelligen...\n",
       "1  43385931                                   Data exploration\n",
       "2  49082762     List of datasets for machine learning research\n",
       "3    233488                                   Machine learning\n",
       "4  53587467                        Outline of machine learning\n",
       "5   3771060                                   Accuracy paradox\n",
       "6  43808044                              Action model learning\n",
       "7  28801798                 Active learning (machine learning)\n",
       "8  45049676                       Adversarial machine learning\n",
       "9  52642349                                               AIVA"
      ]
     },
     "execution_count": 26,
     "metadata": {},
     "output_type": "execute_result"
    }
   ],
   "source": [
    "# df with subcategories removed\n",
    "pid_df.head(10)"
   ]
  },
  {
   "cell_type": "code",
   "execution_count": 27,
   "metadata": {
    "collapsed": true
   },
   "outputs": [],
   "source": [
    "# Creates a list of page ids that will be used in the second call to collect the page content.\n",
    "pageid = []\n",
    "\n",
    "for ids in pid_df['pageid']:\n",
    "    pageid.append(ids)"
   ]
  },
  {
   "cell_type": "code",
   "execution_count": 13,
   "metadata": {
    "collapsed": true
   },
   "outputs": [],
   "source": [
    "# Testing the list\n",
    "\n",
    "pageid"
   ]
  },
  {
   "cell_type": "code",
   "execution_count": 13,
   "metadata": {
    "scrolled": true
   },
   "outputs": [
    {
     "name": "stdout",
     "output_type": "stream",
     "text": [
      "2.0% - 4.1% - 6.1% - 8.1% - 10.2% - 12.2% - 14.2% - 16.2% - 18.3% - 20.3% - 22.3% - 24.4% - 26.4% - 28.4% - 30.5% - 32.5% - 34.5% - 36.5% - 38.6% - 40.6% - 42.6% - 44.7% - 46.7% - 48.7% - 50.8% - 52.8% - 54.8% - 56.9% - 58.9% - 60.9% - 62.9% - 65.0% - 67.0% - 69.0% - 71.1% - 73.1% - 75.1% - 77.2% - 79.2% - 81.2% - 83.2% - 85.3% - 87.3% - 89.3% - 91.4% - 93.4% - 95.4% - 97.5% - 99.5% - "
     ]
    }
   ],
   "source": [
    "# For loop will loop through the list of pageids and extract the content and put it into a dictionary.\n",
    "\n",
    "baseurl = 'http://en.wikipedia.org/w/api.php'\n",
    "count = 0\n",
    "\n",
    "base_dict = {}\n",
    "for i in pageid: \n",
    "    \n",
    "    extract_atts = {}\n",
    "    extract_atts['action'] = 'query'  # action=query\n",
    "    extract_atts['prop'] = 'extracts'     # prop=info\n",
    "    extract_atts['format'] = 'json'   # format=json\n",
    "    extract_atts['explaintext'] = 'True'\n",
    "    extract_atts['pageids'] = '{}'.format(i)\n",
    "\n",
    "    extract_resp = requests.get(baseurl, params = extract_atts)\n",
    "    \n",
    "    json = extract_resp.json()\n",
    "    base_dict[i] = json['query']['pages'][str(i)]\n",
    "    count += 1\n",
    "    \n",
    "    if count % 4 == 0:\n",
    "            print ('{:.1f}%'.format(count/int(len(pageid)) * 100),end=' - ')\n",
    "    \n",
    "    \n",
    "#print(len(extract_resp.url))"
   ]
  },
  {
   "cell_type": "code",
   "execution_count": 14,
   "metadata": {},
   "outputs": [
    {
     "data": {
      "text/plain": [
       "197"
      ]
     },
     "execution_count": 14,
     "metadata": {},
     "output_type": "execute_result"
    }
   ],
   "source": [
    "#Test to see if it capture all the content. 197 was the number of pages listed wikipedia, so it worked :)\n",
    "count"
   ]
  },
  {
   "cell_type": "code",
   "execution_count": 15,
   "metadata": {},
   "outputs": [
    {
     "data": {
      "text/plain": [
       "'Data exploration'"
      ]
     },
     "execution_count": 15,
     "metadata": {},
     "output_type": "execute_result"
    }
   ],
   "source": [
    "# Another test\n",
    "base_dict[43385931]['title']"
   ]
  },
  {
   "cell_type": "code",
   "execution_count": 16,
   "metadata": {
    "collapsed": true
   },
   "outputs": [],
   "source": [
    "# This loop pulls the relevant information from the json\n",
    "extracts = []\n",
    "titles = []\n",
    "keys = []\n",
    "\n",
    "for key_id, item_dict in base_dict.items():\n",
    "    keys.append(key_id)\n",
    "    extracts.append(item_dict['extract'])\n",
    "    titles.append(item_dict['title'])\n",
    "   "
   ]
  },
  {
   "cell_type": "code",
   "execution_count": 17,
   "metadata": {
    "collapsed": true
   },
   "outputs": [],
   "source": [
    "# Turn the lists into a df\n",
    "new_df = pd.DataFrame({\n",
    "    'title': titles,\n",
    "    'extract': extracts,\n",
    "    'id': keys\n",
    "})"
   ]
  },
  {
   "cell_type": "code",
   "execution_count": 14,
   "metadata": {
    "collapsed": true,
    "scrolled": true
   },
   "outputs": [],
   "source": [
    "#df test\n",
    "\n",
    "new_df"
   ]
  },
  {
   "cell_type": "code",
   "execution_count": 19,
   "metadata": {
    "collapsed": true
   },
   "outputs": [],
   "source": [
    "# Run the cleaner on the df\n",
    "new_df['clean_extract'] = new_df['extract'].apply(cleaner)"
   ]
  },
  {
   "cell_type": "code",
   "execution_count": 20,
   "metadata": {
    "collapsed": true
   },
   "outputs": [],
   "source": [
    "clean_ml_df = new_df.drop('extract', axis=1)"
   ]
  },
  {
   "cell_type": "code",
   "execution_count": 21,
   "metadata": {
    "collapsed": true,
    "scrolled": true
   },
   "outputs": [],
   "source": [
    "clean_ml_df['category'] = 'machine learning'"
   ]
  },
  {
   "cell_type": "code",
   "execution_count": 15,
   "metadata": {
    "collapsed": true,
    "scrolled": true
   },
   "outputs": [],
   "source": [
    "clean_ml_df"
   ]
  },
  {
   "cell_type": "code",
   "execution_count": 23,
   "metadata": {
    "collapsed": true
   },
   "outputs": [],
   "source": [
    "# The above process is repeated for the for the business categories\n",
    "\n",
    "baseurl = 'http://en.wikipedia.org/w/api.php'\n",
    "\n",
    "my_atts = {}\n",
    "my_atts['action'] = 'query'  # action=query\n",
    "my_atts['prop'] = 'info'     # prop=info\n",
    "my_atts['format'] = 'json'   # format=json\n",
    "my_atts['list'] = 'categorymembers'\n",
    "my_atts['cmtitle'] = 'Category:Business_software'\n",
    "my_atts['cmlimit'] = 'max'\n",
    "\n",
    "\n",
    "bus_resp = requests.get(baseurl, params = my_atts)\n",
    "bus_data = bus_resp.json()"
   ]
  },
  {
   "cell_type": "code",
   "execution_count": 16,
   "metadata": {
    "collapsed": true
   },
   "outputs": [],
   "source": [
    "bus_data['query']['categorymembers']"
   ]
  },
  {
   "cell_type": "code",
   "execution_count": 25,
   "metadata": {
    "collapsed": true
   },
   "outputs": [],
   "source": [
    "bus_data = bus_data['query']['categorymembers']"
   ]
  },
  {
   "cell_type": "code",
   "execution_count": 26,
   "metadata": {
    "collapsed": true
   },
   "outputs": [],
   "source": [
    "bus_pid_df = pd.DataFrame(bus_data, columns=['pageid', 'title'])"
   ]
  },
  {
   "cell_type": "code",
   "execution_count": 27,
   "metadata": {
    "collapsed": true
   },
   "outputs": [],
   "source": [
    "biz_mask = bus_pid_df['title'].str.contains(\"Category\")\n",
    "bus_pid_df = bus_pid_df[~biz_mask]"
   ]
  },
  {
   "cell_type": "code",
   "execution_count": 28,
   "metadata": {
    "scrolled": true
   },
   "outputs": [
    {
     "data": {
      "text/html": [
       "<div>\n",
       "<table border=\"1\" class=\"dataframe\">\n",
       "  <thead>\n",
       "    <tr style=\"text-align: right;\">\n",
       "      <th></th>\n",
       "      <th>pageid</th>\n",
       "      <th>title</th>\n",
       "    </tr>\n",
       "  </thead>\n",
       "  <tbody>\n",
       "    <tr>\n",
       "      <th>0</th>\n",
       "      <td>1037763</td>\n",
       "      <td>Business software</td>\n",
       "    </tr>\n",
       "    <tr>\n",
       "      <th>1</th>\n",
       "      <td>41270069</td>\n",
       "      <td>AccuSystems</td>\n",
       "    </tr>\n",
       "    <tr>\n",
       "      <th>2</th>\n",
       "      <td>5211212</td>\n",
       "      <td>Active policy management</td>\n",
       "    </tr>\n",
       "    <tr>\n",
       "      <th>3</th>\n",
       "      <td>28502793</td>\n",
       "      <td>Alexandria (library software)</td>\n",
       "    </tr>\n",
       "    <tr>\n",
       "      <th>4</th>\n",
       "      <td>44133735</td>\n",
       "      <td>Alteryx</td>\n",
       "    </tr>\n",
       "    <tr>\n",
       "      <th>5</th>\n",
       "      <td>12715119</td>\n",
       "      <td>Amadeus CRS</td>\n",
       "    </tr>\n",
       "    <tr>\n",
       "      <th>6</th>\n",
       "      <td>24061342</td>\n",
       "      <td>AMS Device Manager</td>\n",
       "    </tr>\n",
       "    <tr>\n",
       "      <th>7</th>\n",
       "      <td>54594603</td>\n",
       "      <td>Angelfish software</td>\n",
       "    </tr>\n",
       "    <tr>\n",
       "      <th>8</th>\n",
       "      <td>1762176</td>\n",
       "      <td>Applicant tracking system</td>\n",
       "    </tr>\n",
       "    <tr>\n",
       "      <th>9</th>\n",
       "      <td>22847264</td>\n",
       "      <td>Application retirement</td>\n",
       "    </tr>\n",
       "    <tr>\n",
       "      <th>10</th>\n",
       "      <td>35959361</td>\n",
       "      <td>Architecture of Interoperable Information Systems</td>\n",
       "    </tr>\n",
       "    <tr>\n",
       "      <th>11</th>\n",
       "      <td>19657756</td>\n",
       "      <td>Asset recovery software</td>\n",
       "    </tr>\n",
       "    <tr>\n",
       "      <th>12</th>\n",
       "      <td>53113973</td>\n",
       "      <td>Avaloq</td>\n",
       "    </tr>\n",
       "    <tr>\n",
       "      <th>13</th>\n",
       "      <td>34026570</td>\n",
       "      <td>Axess (CRS)</td>\n",
       "    </tr>\n",
       "    <tr>\n",
       "      <th>14</th>\n",
       "      <td>38722262</td>\n",
       "      <td>Ayasdi</td>\n",
       "    </tr>\n",
       "    <tr>\n",
       "      <th>15</th>\n",
       "      <td>522230</td>\n",
       "      <td>Balanced scorecard</td>\n",
       "    </tr>\n",
       "    <tr>\n",
       "      <th>16</th>\n",
       "      <td>11971726</td>\n",
       "      <td>BatchMaster Software</td>\n",
       "    </tr>\n",
       "    <tr>\n",
       "      <th>17</th>\n",
       "      <td>53108275</td>\n",
       "      <td>Blue Prism</td>\n",
       "    </tr>\n",
       "    <tr>\n",
       "      <th>18</th>\n",
       "      <td>41672405</td>\n",
       "      <td>BlueSpice MediaWiki</td>\n",
       "    </tr>\n",
       "    <tr>\n",
       "      <th>19</th>\n",
       "      <td>25957629</td>\n",
       "      <td>BQE Software Inc</td>\n",
       "    </tr>\n",
       "    <tr>\n",
       "      <th>20</th>\n",
       "      <td>32797209</td>\n",
       "      <td>BRFplus</td>\n",
       "    </tr>\n",
       "    <tr>\n",
       "      <th>21</th>\n",
       "      <td>34845963</td>\n",
       "      <td>Brightpearl</td>\n",
       "    </tr>\n",
       "    <tr>\n",
       "      <th>22</th>\n",
       "      <td>33065316</td>\n",
       "      <td>Buckaroo.com</td>\n",
       "    </tr>\n",
       "    <tr>\n",
       "      <th>23</th>\n",
       "      <td>2093407</td>\n",
       "      <td>Business activity monitoring</td>\n",
       "    </tr>\n",
       "    <tr>\n",
       "      <th>24</th>\n",
       "      <td>38935938</td>\n",
       "      <td>Business Anti-Corruption Portal</td>\n",
       "    </tr>\n",
       "    <tr>\n",
       "      <th>25</th>\n",
       "      <td>54133478</td>\n",
       "      <td>Data preparation</td>\n",
       "    </tr>\n",
       "    <tr>\n",
       "      <th>26</th>\n",
       "      <td>3927666</td>\n",
       "      <td>Business intelligence software</td>\n",
       "    </tr>\n",
       "    <tr>\n",
       "      <th>27</th>\n",
       "      <td>27954944</td>\n",
       "      <td>Business interoperability interface</td>\n",
       "    </tr>\n",
       "    <tr>\n",
       "      <th>28</th>\n",
       "      <td>3543438</td>\n",
       "      <td>Business process interoperability</td>\n",
       "    </tr>\n",
       "    <tr>\n",
       "      <th>29</th>\n",
       "      <td>1631564</td>\n",
       "      <td>Business rules approach</td>\n",
       "    </tr>\n",
       "    <tr>\n",
       "      <th>...</th>\n",
       "      <td>...</td>\n",
       "      <td>...</td>\n",
       "    </tr>\n",
       "    <tr>\n",
       "      <th>268</th>\n",
       "      <td>19925726</td>\n",
       "      <td>Truviso</td>\n",
       "    </tr>\n",
       "    <tr>\n",
       "      <th>269</th>\n",
       "      <td>28096875</td>\n",
       "      <td>Upserve</td>\n",
       "    </tr>\n",
       "    <tr>\n",
       "      <th>270</th>\n",
       "      <td>1290733</td>\n",
       "      <td>USAS (application)</td>\n",
       "    </tr>\n",
       "    <tr>\n",
       "      <th>271</th>\n",
       "      <td>11154407</td>\n",
       "      <td>Vendor management system</td>\n",
       "    </tr>\n",
       "    <tr>\n",
       "      <th>272</th>\n",
       "      <td>15309361</td>\n",
       "      <td>Very Large Business Applications</td>\n",
       "    </tr>\n",
       "    <tr>\n",
       "      <th>273</th>\n",
       "      <td>35127328</td>\n",
       "      <td>Virtual office software</td>\n",
       "    </tr>\n",
       "    <tr>\n",
       "      <th>274</th>\n",
       "      <td>35152919</td>\n",
       "      <td>Visual Compliance</td>\n",
       "    </tr>\n",
       "    <tr>\n",
       "      <th>275</th>\n",
       "      <td>11648918</td>\n",
       "      <td>Visual Intercept</td>\n",
       "    </tr>\n",
       "    <tr>\n",
       "      <th>276</th>\n",
       "      <td>42460055</td>\n",
       "      <td>VoloMetrix</td>\n",
       "    </tr>\n",
       "    <tr>\n",
       "      <th>277</th>\n",
       "      <td>24272165</td>\n",
       "      <td>VP/MS</td>\n",
       "    </tr>\n",
       "    <tr>\n",
       "      <th>278</th>\n",
       "      <td>40727883</td>\n",
       "      <td>Wallmob</td>\n",
       "    </tr>\n",
       "    <tr>\n",
       "      <th>279</th>\n",
       "      <td>53984403</td>\n",
       "      <td>User:Milmisha/sandbox</td>\n",
       "    </tr>\n",
       "    <tr>\n",
       "      <th>280</th>\n",
       "      <td>1745691</td>\n",
       "      <td>Warehouse management system</td>\n",
       "    </tr>\n",
       "    <tr>\n",
       "      <th>281</th>\n",
       "      <td>15095926</td>\n",
       "      <td>Web presence</td>\n",
       "    </tr>\n",
       "    <tr>\n",
       "      <th>282</th>\n",
       "      <td>36292664</td>\n",
       "      <td>Webcam Social Shopper</td>\n",
       "    </tr>\n",
       "    <tr>\n",
       "      <th>283</th>\n",
       "      <td>40453325</td>\n",
       "      <td>Welcome Real Time</td>\n",
       "    </tr>\n",
       "    <tr>\n",
       "      <th>284</th>\n",
       "      <td>51567252</td>\n",
       "      <td>WeWorked</td>\n",
       "    </tr>\n",
       "    <tr>\n",
       "      <th>285</th>\n",
       "      <td>14546175</td>\n",
       "      <td>WHATS'On (Software)</td>\n",
       "    </tr>\n",
       "    <tr>\n",
       "      <th>286</th>\n",
       "      <td>25745688</td>\n",
       "      <td>Service chain optimization</td>\n",
       "    </tr>\n",
       "    <tr>\n",
       "      <th>287</th>\n",
       "      <td>2840555</td>\n",
       "      <td>Workforce management</td>\n",
       "    </tr>\n",
       "    <tr>\n",
       "      <th>288</th>\n",
       "      <td>50515193</td>\n",
       "      <td>Workforce optimization</td>\n",
       "    </tr>\n",
       "    <tr>\n",
       "      <th>289</th>\n",
       "      <td>51957134</td>\n",
       "      <td>Workplace by Facebook</td>\n",
       "    </tr>\n",
       "    <tr>\n",
       "      <th>290</th>\n",
       "      <td>9466979</td>\n",
       "      <td>Worldwide Diagnostic System</td>\n",
       "    </tr>\n",
       "    <tr>\n",
       "      <th>291</th>\n",
       "      <td>14568189</td>\n",
       "      <td>Wrike</td>\n",
       "    </tr>\n",
       "    <tr>\n",
       "      <th>292</th>\n",
       "      <td>1693503</td>\n",
       "      <td>X-Lite</td>\n",
       "    </tr>\n",
       "    <tr>\n",
       "      <th>293</th>\n",
       "      <td>39214950</td>\n",
       "      <td>Xaitporter</td>\n",
       "    </tr>\n",
       "    <tr>\n",
       "      <th>294</th>\n",
       "      <td>3234557</td>\n",
       "      <td>Xcon</td>\n",
       "    </tr>\n",
       "    <tr>\n",
       "      <th>295</th>\n",
       "      <td>33906593</td>\n",
       "      <td>Xpertdoc</td>\n",
       "    </tr>\n",
       "    <tr>\n",
       "      <th>296</th>\n",
       "      <td>33185688</td>\n",
       "      <td>Xpert-Timer</td>\n",
       "    </tr>\n",
       "    <tr>\n",
       "      <th>297</th>\n",
       "      <td>34061482</td>\n",
       "      <td>Zuora</td>\n",
       "    </tr>\n",
       "  </tbody>\n",
       "</table>\n",
       "<p>298 rows × 2 columns</p>\n",
       "</div>"
      ],
      "text/plain": [
       "       pageid                                              title\n",
       "0     1037763                                  Business software\n",
       "1    41270069                                        AccuSystems\n",
       "2     5211212                           Active policy management\n",
       "3    28502793                      Alexandria (library software)\n",
       "4    44133735                                            Alteryx\n",
       "5    12715119                                        Amadeus CRS\n",
       "6    24061342                                 AMS Device Manager\n",
       "7    54594603                                 Angelfish software\n",
       "8     1762176                          Applicant tracking system\n",
       "9    22847264                             Application retirement\n",
       "10   35959361  Architecture of Interoperable Information Systems\n",
       "11   19657756                            Asset recovery software\n",
       "12   53113973                                             Avaloq\n",
       "13   34026570                                        Axess (CRS)\n",
       "14   38722262                                             Ayasdi\n",
       "15     522230                                 Balanced scorecard\n",
       "16   11971726                               BatchMaster Software\n",
       "17   53108275                                         Blue Prism\n",
       "18   41672405                                BlueSpice MediaWiki\n",
       "19   25957629                                   BQE Software Inc\n",
       "20   32797209                                            BRFplus\n",
       "21   34845963                                        Brightpearl\n",
       "22   33065316                                       Buckaroo.com\n",
       "23    2093407                       Business activity monitoring\n",
       "24   38935938                    Business Anti-Corruption Portal\n",
       "25   54133478                                   Data preparation\n",
       "26    3927666                     Business intelligence software\n",
       "27   27954944                Business interoperability interface\n",
       "28    3543438                  Business process interoperability\n",
       "29    1631564                            Business rules approach\n",
       "..        ...                                                ...\n",
       "268  19925726                                            Truviso\n",
       "269  28096875                                            Upserve\n",
       "270   1290733                                 USAS (application)\n",
       "271  11154407                           Vendor management system\n",
       "272  15309361                   Very Large Business Applications\n",
       "273  35127328                            Virtual office software\n",
       "274  35152919                                  Visual Compliance\n",
       "275  11648918                                   Visual Intercept\n",
       "276  42460055                                         VoloMetrix\n",
       "277  24272165                                              VP/MS\n",
       "278  40727883                                            Wallmob\n",
       "279  53984403                              User:Milmisha/sandbox\n",
       "280   1745691                        Warehouse management system\n",
       "281  15095926                                       Web presence\n",
       "282  36292664                              Webcam Social Shopper\n",
       "283  40453325                                  Welcome Real Time\n",
       "284  51567252                                           WeWorked\n",
       "285  14546175                                WHATS'On (Software)\n",
       "286  25745688                         Service chain optimization\n",
       "287   2840555                               Workforce management\n",
       "288  50515193                             Workforce optimization\n",
       "289  51957134                              Workplace by Facebook\n",
       "290   9466979                        Worldwide Diagnostic System\n",
       "291  14568189                                              Wrike\n",
       "292   1693503                                             X-Lite\n",
       "293  39214950                                         Xaitporter\n",
       "294   3234557                                               Xcon\n",
       "295  33906593                                           Xpertdoc\n",
       "296  33185688                                        Xpert-Timer\n",
       "297  34061482                                              Zuora\n",
       "\n",
       "[298 rows x 2 columns]"
      ]
     },
     "execution_count": 28,
     "metadata": {},
     "output_type": "execute_result"
    }
   ],
   "source": [
    "bus_pid_df"
   ]
  },
  {
   "cell_type": "code",
   "execution_count": 29,
   "metadata": {
    "collapsed": true
   },
   "outputs": [],
   "source": [
    "biz_pageid = []\n",
    "\n",
    "for ids in bus_pid_df['pageid']:\n",
    "    biz_pageid.append(ids)"
   ]
  },
  {
   "cell_type": "code",
   "execution_count": 17,
   "metadata": {
    "collapsed": true
   },
   "outputs": [],
   "source": [
    "biz_pageid"
   ]
  },
  {
   "cell_type": "code",
   "execution_count": 31,
   "metadata": {},
   "outputs": [
    {
     "name": "stdout",
     "output_type": "stream",
     "text": [
      "1.3% - 2.7% - 4.0% - 5.4% - 6.7% - 8.1% - 9.4% - 10.7% - 12.1% - 13.4% - 14.8% - 16.1% - 17.4% - 18.8% - 20.1% - 21.5% - 22.8% - 24.2% - 25.5% - 26.8% - 28.2% - 29.5% - 30.9% - 32.2% - 33.6% - 34.9% - 36.2% - 37.6% - 38.9% - 40.3% - 41.6% - 43.0% - 44.3% - 45.6% - 47.0% - 48.3% - 49.7% - 51.0% - 52.3% - 53.7% - 55.0% - 56.4% - 57.7% - 59.1% - 60.4% - 61.7% - 63.1% - 64.4% - 65.8% - 67.1% - 68.5% - 69.8% - 71.1% - 72.5% - 73.8% - 75.2% - 76.5% - 77.9% - 79.2% - 80.5% - 81.9% - 83.2% - 84.6% - 85.9% - 87.2% - 88.6% - 89.9% - 91.3% - 92.6% - 94.0% - 95.3% - 96.6% - 98.0% - 99.3% - "
     ]
    }
   ],
   "source": [
    "baseurl = 'http://en.wikipedia.org/w/api.php'\n",
    "count = 0\n",
    "\n",
    "biz_dict = {}\n",
    "for i in biz_pageid: \n",
    "    \n",
    "    biz_atts = {}\n",
    "    biz_atts['action'] = 'query'  # action=query\n",
    "    biz_atts['prop'] = 'extracts'     # prop=info\n",
    "    biz_atts['format'] = 'json'   # format=json\n",
    "    biz_atts['explaintext'] = 'True'\n",
    "    biz_atts['pageids'] = '{}'.format(i)\n",
    "\n",
    "    biz_resp = requests.get(baseurl, params = biz_atts)\n",
    "    \n",
    "    json = biz_resp.json()\n",
    "    biz_dict[i] = json['query']['pages'][str(i)]\n",
    "    #print(base_dict[i])\n",
    "    count += 1\n",
    "    \n",
    "    if count % 4 == 0:\n",
    "            print ('{:.1f}%'.format(count/int(len(biz_pageid)) * 100),end=' - ')\n",
    "            "
   ]
  },
  {
   "cell_type": "code",
   "execution_count": 18,
   "metadata": {
    "collapsed": true,
    "scrolled": true
   },
   "outputs": [],
   "source": [
    "biz_dict"
   ]
  },
  {
   "cell_type": "code",
   "execution_count": 33,
   "metadata": {
    "collapsed": true
   },
   "outputs": [],
   "source": [
    "biz_extracts = []\n",
    "biz_titles = []\n",
    "biz_keys = []\n",
    "for key_id, item_dict in biz_dict.items():\n",
    "    biz_keys.append(key_id)\n",
    "    biz_extracts.append(item_dict['extract'])\n",
    "    biz_titles.append(item_dict['title'])\n",
    "    #text = extracts.append(item_dict['query']['pages'][str(key_id)]['extract'])\n",
    "    #base_dict[key_id]['text'] = text"
   ]
  },
  {
   "cell_type": "code",
   "execution_count": 34,
   "metadata": {
    "collapsed": true
   },
   "outputs": [],
   "source": [
    "biz_df = pd.DataFrame({\n",
    "    'title': biz_titles,\n",
    "    'extract': biz_extracts,\n",
    "    'id': biz_keys\n",
    "})"
   ]
  },
  {
   "cell_type": "code",
   "execution_count": 19,
   "metadata": {
    "collapsed": true,
    "scrolled": true
   },
   "outputs": [],
   "source": [
    "biz_df"
   ]
  },
  {
   "cell_type": "code",
   "execution_count": 36,
   "metadata": {
    "collapsed": true
   },
   "outputs": [],
   "source": [
    "biz_df['clean_extract'] = biz_df['extract'].apply(cleaner)"
   ]
  },
  {
   "cell_type": "code",
   "execution_count": 37,
   "metadata": {
    "collapsed": true
   },
   "outputs": [],
   "source": [
    "clean_biz_df = biz_df.drop('extract', axis=1)"
   ]
  },
  {
   "cell_type": "code",
   "execution_count": 20,
   "metadata": {
    "collapsed": true,
    "scrolled": true
   },
   "outputs": [],
   "source": [
    "clean_biz_df"
   ]
  },
  {
   "cell_type": "code",
   "execution_count": 39,
   "metadata": {
    "collapsed": true
   },
   "outputs": [],
   "source": [
    "clean_biz_df['category'] = 'business software'"
   ]
  },
  {
   "cell_type": "code",
   "execution_count": 125,
   "metadata": {
    "scrolled": true
   },
   "outputs": [
    {
     "data": {
      "text/html": [
       "<div>\n",
       "<table border=\"1\" class=\"dataframe\">\n",
       "  <thead>\n",
       "    <tr style=\"text-align: right;\">\n",
       "      <th></th>\n",
       "      <th>id</th>\n",
       "      <th>title</th>\n",
       "      <th>clean_extract</th>\n",
       "      <th>category</th>\n",
       "    </tr>\n",
       "  </thead>\n",
       "  <tbody>\n",
       "    <tr>\n",
       "      <th>293</th>\n",
       "      <td>24310774</td>\n",
       "      <td>Enterprise forms automation</td>\n",
       "      <td>enterprise forms automation is a companywide c...</td>\n",
       "      <td>business software</td>\n",
       "    </tr>\n",
       "    <tr>\n",
       "      <th>294</th>\n",
       "      <td>34208511</td>\n",
       "      <td>Employee relationship management</td>\n",
       "      <td>an employee relationship management erm system...</td>\n",
       "      <td>business software</td>\n",
       "    </tr>\n",
       "    <tr>\n",
       "      <th>295</th>\n",
       "      <td>4996092</td>\n",
       "      <td>Laserfiche</td>\n",
       "      <td>laserfiche is a privately owned software devel...</td>\n",
       "      <td>business software</td>\n",
       "    </tr>\n",
       "    <tr>\n",
       "      <th>296</th>\n",
       "      <td>22350998</td>\n",
       "      <td>SpeedTax</td>\n",
       "      <td>speedtax is a sales tax automation saas produc...</td>\n",
       "      <td>business software</td>\n",
       "    </tr>\n",
       "    <tr>\n",
       "      <th>297</th>\n",
       "      <td>52529493</td>\n",
       "      <td>OpenProcurement</td>\n",
       "      <td>openprocurement is an open source procurement ...</td>\n",
       "      <td>business software</td>\n",
       "    </tr>\n",
       "  </tbody>\n",
       "</table>\n",
       "</div>"
      ],
      "text/plain": [
       "           id                             title  \\\n",
       "293  24310774       Enterprise forms automation   \n",
       "294  34208511  Employee relationship management   \n",
       "295   4996092                        Laserfiche   \n",
       "296  22350998                          SpeedTax   \n",
       "297  52529493                   OpenProcurement   \n",
       "\n",
       "                                         clean_extract           category  \n",
       "293  enterprise forms automation is a companywide c...  business software  \n",
       "294  an employee relationship management erm system...  business software  \n",
       "295  laserfiche is a privately owned software devel...  business software  \n",
       "296  speedtax is a sales tax automation saas produc...  business software  \n",
       "297  openprocurement is an open source procurement ...  business software  "
      ]
     },
     "execution_count": 125,
     "metadata": {},
     "output_type": "execute_result"
    }
   ],
   "source": [
    "clean_biz_df.tail()"
   ]
  },
  {
   "cell_type": "code",
   "execution_count": 41,
   "metadata": {
    "collapsed": true
   },
   "outputs": [],
   "source": [
    "# This is where I combined the Machine Learning and Business Solutions dataframes\n",
    "cl_ml_biz = clean_ml_df.append(clean_biz_df)"
   ]
  },
  {
   "cell_type": "code",
   "execution_count": 123,
   "metadata": {
    "scrolled": true
   },
   "outputs": [
    {
     "data": {
      "text/plain": [
       "Int64Index([  0,   1,   2,   3,   4,   5,   6,   7,   8,   9,\n",
       "            ...\n",
       "            288, 289, 290, 291, 292, 293, 294, 295, 296, 297],\n",
       "           dtype='int64', length=495)"
      ]
     },
     "execution_count": 123,
     "metadata": {},
     "output_type": "execute_result"
    }
   ],
   "source": [
    "cl_ml_biz.index"
   ]
  },
  {
   "cell_type": "code",
   "execution_count": 21,
   "metadata": {
    "collapsed": true
   },
   "outputs": [],
   "source": [
    "cursor = connection.cursor(cursor_factory=RealDictCursor)"
   ]
  },
  {
   "cell_type": "code",
   "execution_count": 47,
   "metadata": {
    "collapsed": true
   },
   "outputs": [],
   "source": [
    "# connection\n",
    "from sqlalchemy import create_engine\n",
    "engine = create_engine(\"postgresql://postgres@postgres/postgres\")"
   ]
  },
  {
   "cell_type": "code",
   "execution_count": 22,
   "metadata": {
    "collapsed": true
   },
   "outputs": [],
   "source": [
    "# inserted the dataframes into the SQL database\n",
    "cl_ml_biz.to_sql(\"test\", con=engine, if_exists=\"replace\", index=False)"
   ]
  },
  {
   "cell_type": "code",
   "execution_count": 23,
   "metadata": {
    "collapsed": true
   },
   "outputs": [],
   "source": [
    "# # Tested the insert\n",
    "sql = \"\"\"\n",
    "SELECT * FROM test\n",
    "\"\"\"\n",
    "\n",
    "pd.read_sql(sql, con=engine)"
   ]
  },
  {
   "cell_type": "code",
   "execution_count": null,
   "metadata": {
    "collapsed": true
   },
   "outputs": [],
   "source": [
    "####################\n",
    "# Part 2 -- Search #\n",
    "####################"
   ]
  },
  {
   "cell_type": "code",
   "execution_count": null,
   "metadata": {
    "collapsed": true
   },
   "outputs": [],
   "source": [
    "###########\n",
    "# Imports #\n",
    "###########"
   ]
  },
  {
   "cell_type": "code",
   "execution_count": 50,
   "metadata": {
    "collapsed": true
   },
   "outputs": [],
   "source": [
    "from sklearn.feature_extraction.text import  TfidfVectorizer\n",
    "from sklearn.decomposition import TruncatedSVD"
   ]
  },
  {
   "cell_type": "code",
   "execution_count": 71,
   "metadata": {
    "collapsed": true
   },
   "outputs": [],
   "source": [
    "## Instantiate the vectorizer and set the stop words to 'english'\n",
    "tfidf_vectorizer = TfidfVectorizer(stop_words=\"english\")\n",
    "\n",
    "## Fit and transform the articles from the dataframe above and assign it to X\n",
    "document_term_matrix_sps = tfidf_vectorizer.fit_transform(cl_ml_biz['clean_extract'])"
   ]
  },
  {
   "cell_type": "code",
   "execution_count": 72,
   "metadata": {},
   "outputs": [
    {
     "data": {
      "text/plain": [
       "<495x24726 sparse matrix of type '<class 'numpy.float64'>'\n",
       "\twith 118837 stored elements in Compressed Sparse Row format>"
      ]
     },
     "execution_count": 72,
     "metadata": {},
     "output_type": "execute_result"
    }
   ],
   "source": [
    "## Sparse matrix output\n",
    "document_term_matrix_sps"
   ]
  },
  {
   "cell_type": "code",
   "execution_count": 84,
   "metadata": {
    "collapsed": true
   },
   "outputs": [],
   "source": [
    "## Convert the sparse matrix to a dense matrix, in order to look at the data.\n",
    "#\n",
    "#         (1): Convert the sparse matrix into a dataframe \n",
    "#            \n",
    "#              (1.1): data = use the 'toarray()' method on the sparse matrix to fill the null values with zeros\n",
    "#              (1.2): index = use the 'index' attribute with the df to set the index of the resulting df\n",
    "#              (1.3): columns = use 'get_feature_names()' method on the tfidf vectorizer to set the columns\n",
    "#                     of the resulting df.\n",
    "\n",
    "document_term_matrix_df = pd.DataFrame(document_term_matrix_sps.toarray(),\n",
    "                                       index=cl_ml_biz.index,\n",
    "                                       columns=tfidf_vectorizer.get_feature_names())"
   ]
  },
  {
   "cell_type": "code",
   "execution_count": 96,
   "metadata": {},
   "outputs": [
    {
     "data": {
      "text/html": [
       "<div>\n",
       "<table border=\"1\" class=\"dataframe\">\n",
       "  <thead>\n",
       "    <tr style=\"text-align: right;\">\n",
       "      <th></th>\n",
       "      <th>title</th>\n",
       "      <th>aaai</th>\n",
       "      <th>aaainumber</th>\n",
       "      <th>aabar</th>\n",
       "      <th>aabright</th>\n",
       "      <th>aabsubset</th>\n",
       "      <th>aachen</th>\n",
       "      <th>aai</th>\n",
       "      <th>aaip</th>\n",
       "      <th>aais</th>\n",
       "      <th>...</th>\n",
       "      <th>zurich</th>\n",
       "      <th>zvfsizleq</th>\n",
       "      <th>zvfszivfsizileq</th>\n",
       "      <th>zvfszmathbb</th>\n",
       "      <th>zvfszvfsizleq</th>\n",
       "      <th>zvfz</th>\n",
       "      <th>zwanziger</th>\n",
       "      <th>zxrightarrow</th>\n",
       "      <th>zxtimes</th>\n",
       "      <th>zxy</th>\n",
       "    </tr>\n",
       "  </thead>\n",
       "  <tbody>\n",
       "    <tr>\n",
       "      <th>10</th>\n",
       "      <td>Machine learning</td>\n",
       "      <td>0.0</td>\n",
       "      <td>0.0</td>\n",
       "      <td>0.0</td>\n",
       "      <td>0.0</td>\n",
       "      <td>0.0</td>\n",
       "      <td>0.0</td>\n",
       "      <td>0.0</td>\n",
       "      <td>0.0</td>\n",
       "      <td>0.0</td>\n",
       "      <td>...</td>\n",
       "      <td>0.0</td>\n",
       "      <td>0.0</td>\n",
       "      <td>0.0</td>\n",
       "      <td>0.0</td>\n",
       "      <td>0.0</td>\n",
       "      <td>0.0</td>\n",
       "      <td>0.0</td>\n",
       "      <td>0.0</td>\n",
       "      <td>0.0</td>\n",
       "      <td>0.0</td>\n",
       "    </tr>\n",
       "    <tr>\n",
       "      <th>164</th>\n",
       "      <td>HP Cloud Service Automation Software</td>\n",
       "      <td>0.0</td>\n",
       "      <td>0.0</td>\n",
       "      <td>0.0</td>\n",
       "      <td>0.0</td>\n",
       "      <td>0.0</td>\n",
       "      <td>0.0</td>\n",
       "      <td>0.0</td>\n",
       "      <td>0.0</td>\n",
       "      <td>0.0</td>\n",
       "      <td>...</td>\n",
       "      <td>0.0</td>\n",
       "      <td>0.0</td>\n",
       "      <td>0.0</td>\n",
       "      <td>0.0</td>\n",
       "      <td>0.0</td>\n",
       "      <td>0.0</td>\n",
       "      <td>0.0</td>\n",
       "      <td>0.0</td>\n",
       "      <td>0.0</td>\n",
       "      <td>0.0</td>\n",
       "    </tr>\n",
       "    <tr>\n",
       "      <th>152</th>\n",
       "      <td>Uncertain data</td>\n",
       "      <td>0.0</td>\n",
       "      <td>0.0</td>\n",
       "      <td>0.0</td>\n",
       "      <td>0.0</td>\n",
       "      <td>0.0</td>\n",
       "      <td>0.0</td>\n",
       "      <td>0.0</td>\n",
       "      <td>0.0</td>\n",
       "      <td>0.0</td>\n",
       "      <td>...</td>\n",
       "      <td>0.0</td>\n",
       "      <td>0.0</td>\n",
       "      <td>0.0</td>\n",
       "      <td>0.0</td>\n",
       "      <td>0.0</td>\n",
       "      <td>0.0</td>\n",
       "      <td>0.0</td>\n",
       "      <td>0.0</td>\n",
       "      <td>0.0</td>\n",
       "      <td>0.0</td>\n",
       "    </tr>\n",
       "    <tr>\n",
       "      <th>101</th>\n",
       "      <td>Conditional random field</td>\n",
       "      <td>0.0</td>\n",
       "      <td>0.0</td>\n",
       "      <td>0.0</td>\n",
       "      <td>0.0</td>\n",
       "      <td>0.0</td>\n",
       "      <td>0.0</td>\n",
       "      <td>0.0</td>\n",
       "      <td>0.0</td>\n",
       "      <td>0.0</td>\n",
       "      <td>...</td>\n",
       "      <td>0.0</td>\n",
       "      <td>0.0</td>\n",
       "      <td>0.0</td>\n",
       "      <td>0.0</td>\n",
       "      <td>0.0</td>\n",
       "      <td>0.0</td>\n",
       "      <td>0.0</td>\n",
       "      <td>0.0</td>\n",
       "      <td>0.0</td>\n",
       "      <td>0.0</td>\n",
       "    </tr>\n",
       "  </tbody>\n",
       "</table>\n",
       "<p>4 rows × 24727 columns</p>\n",
       "</div>"
      ],
      "text/plain": [
       "                                    title  aaai  aaainumber  aabar  aabright  \\\n",
       "10                       Machine learning   0.0         0.0    0.0       0.0   \n",
       "164  HP Cloud Service Automation Software   0.0         0.0    0.0       0.0   \n",
       "152                        Uncertain data   0.0         0.0    0.0       0.0   \n",
       "101              Conditional random field   0.0         0.0    0.0       0.0   \n",
       "\n",
       "     aabsubset  aachen  aai  aaip  aais ...   zurich  zvfsizleq  \\\n",
       "10         0.0     0.0  0.0   0.0   0.0 ...      0.0        0.0   \n",
       "164        0.0     0.0  0.0   0.0   0.0 ...      0.0        0.0   \n",
       "152        0.0     0.0  0.0   0.0   0.0 ...      0.0        0.0   \n",
       "101        0.0     0.0  0.0   0.0   0.0 ...      0.0        0.0   \n",
       "\n",
       "     zvfszivfsizileq  zvfszmathbb  zvfszvfsizleq  zvfz  zwanziger  \\\n",
       "10               0.0          0.0            0.0   0.0        0.0   \n",
       "164              0.0          0.0            0.0   0.0        0.0   \n",
       "152              0.0          0.0            0.0   0.0        0.0   \n",
       "101              0.0          0.0            0.0   0.0        0.0   \n",
       "\n",
       "     zxrightarrow  zxtimes  zxy  \n",
       "10            0.0      0.0  0.0  \n",
       "164           0.0      0.0  0.0  \n",
       "152           0.0      0.0  0.0  \n",
       "101           0.0      0.0  0.0  \n",
       "\n",
       "[4 rows x 24727 columns]"
      ]
     },
     "execution_count": 96,
     "metadata": {},
     "output_type": "execute_result"
    }
   ],
   "source": [
    "## df with the titles of each article concatenate\n",
    "\n",
    "pd.concat([cl_ml_biz.title, document_term_matrix_df], axis=1).sample(4)"
   ]
  },
  {
   "cell_type": "code",
   "execution_count": 97,
   "metadata": {
    "collapsed": true
   },
   "outputs": [],
   "source": [
    "## Assign the sparce matrix to X, b/c document_term_matrix_sps is a lot to look at\n",
    "X = document_term_matrix_sps"
   ]
  },
  {
   "cell_type": "code",
   "execution_count": 99,
   "metadata": {
    "collapsed": true
   },
   "outputs": [],
   "source": [
    "## Time for dimensionality reduction\n",
    "n_components = 500"
   ]
  },
  {
   "cell_type": "code",
   "execution_count": 100,
   "metadata": {
    "collapsed": true
   },
   "outputs": [],
   "source": [
    "## Instantiate TruncatedSVD and use the number of n_components defined above\n",
    "SVD = TruncatedSVD(n_components)"
   ]
  },
  {
   "cell_type": "code",
   "execution_count": 101,
   "metadata": {
    "collapsed": true
   },
   "outputs": [],
   "source": [
    "## Fit and transform X on SVD\n",
    "SVD_matrix = SVD.fit_transform(X)"
   ]
  },
  {
   "cell_type": "code",
   "execution_count": 104,
   "metadata": {
    "collapsed": true
   },
   "outputs": [],
   "source": [
    "## Search term must be put into a list before testing\n",
    "search_term = ['The business data is a data from data data data machine learning']"
   ]
  },
  {
   "cell_type": "code",
   "execution_count": 106,
   "metadata": {
    "collapsed": true
   },
   "outputs": [],
   "source": [
    "search_term_vec = tfidf_vectorizer.transform(search_term)\n",
    "search_term_lsa = SVD.transform(search_term_vec)"
   ]
  },
  {
   "cell_type": "code",
   "execution_count": 107,
   "metadata": {
    "collapsed": true
   },
   "outputs": [],
   "source": [
    "cosine_similarities = SVD_matrix.dot(search_term_lsa.T).ravel()"
   ]
  },
  {
   "cell_type": "code",
   "execution_count": 112,
   "metadata": {},
   "outputs": [
    {
     "data": {
      "text/plain": [
       "array([ 32, 339,  37, 126,  10])"
      ]
     },
     "execution_count": 112,
     "metadata": {},
     "output_type": "execute_result"
    }
   ],
   "source": [
    "cosine_similarities.argsort()[:-6:-1]"
   ]
  },
  {
   "cell_type": "code",
   "execution_count": 121,
   "metadata": {},
   "outputs": [
    {
     "name": "stdout",
     "output_type": "stream",
     "text": [
      "126     customer intelligence management customer int...\n",
      "126    digital nervous system is a phrase popularly a...\n",
      "Name: clean_extract, dtype: object\n"
     ]
    }
   ],
   "source": [
    "print(cl_ml_biz.loc[126]['clean_extract'][:500])"
   ]
  },
  {
   "cell_type": "code",
   "execution_count": 126,
   "metadata": {
    "collapsed": true
   },
   "outputs": [],
   "source": [
    "cl_ml_biz.index = cl_ml_biz['category']"
   ]
  },
  {
   "cell_type": "code",
   "execution_count": 130,
   "metadata": {
    "scrolled": true
   },
   "outputs": [
    {
     "data": {
      "text/plain": [
       "Index(['machine learning', 'machine learning', 'machine learning',\n",
       "       'machine learning', 'machine learning', 'machine learning',\n",
       "       'machine learning', 'machine learning', 'machine learning',\n",
       "       'machine learning',\n",
       "       ...\n",
       "       'business software', 'business software', 'business software',\n",
       "       'business software', 'business software', 'business software',\n",
       "       'business software', 'business software', 'business software',\n",
       "       'business software'],\n",
       "      dtype='object', name='category', length=495)"
      ]
     },
     "execution_count": 130,
     "metadata": {},
     "output_type": "execute_result"
    }
   ],
   "source": [
    "cl_ml_biz.index"
   ]
  },
  {
   "cell_type": "code",
   "execution_count": 131,
   "metadata": {},
   "outputs": [
    {
     "data": {
      "text/plain": [
       "(495, 24726)"
      ]
     },
     "execution_count": 131,
     "metadata": {},
     "output_type": "execute_result"
    }
   ],
   "source": [
    "X.shape"
   ]
  },
  {
   "cell_type": "code",
   "execution_count": 132,
   "metadata": {},
   "outputs": [
    {
     "data": {
      "text/plain": [
       "(495, 4)"
      ]
     },
     "execution_count": 132,
     "metadata": {},
     "output_type": "execute_result"
    }
   ],
   "source": [
    "cl_ml_biz.shape"
   ]
  },
  {
   "cell_type": "code",
   "execution_count": 31,
   "metadata": {
    "collapsed": true
   },
   "outputs": [],
   "source": [
    "##############################\n",
    "# Part 3 -- Predictive Model # \n",
    "##############################"
   ]
  },
  {
   "cell_type": "code",
   "execution_count": null,
   "metadata": {
    "collapsed": true
   },
   "outputs": [],
   "source": [
    "###########\n",
    "# Imports #\n",
    "###########\n",
    "\n",
    "from sklearn.naive_bayes import MultinomialNB"
   ]
  },
  {
   "cell_type": "code",
   "execution_count": 133,
   "metadata": {
    "collapsed": true
   },
   "outputs": [],
   "source": [
    "mnb = MultinomialNB()\n",
    "model = mnb.fit(X, cl_ml_biz.index)"
   ]
  },
  {
   "cell_type": "code",
   "execution_count": 135,
   "metadata": {
    "collapsed": true
   },
   "outputs": [],
   "source": [
    "predicted = model.predict_proba(X)"
   ]
  },
  {
   "cell_type": "code",
   "execution_count": 138,
   "metadata": {},
   "outputs": [
    {
     "data": {
      "text/plain": [
       "array(['business software', 'machine learning'], \n",
       "      dtype='<U17')"
      ]
     },
     "execution_count": 138,
     "metadata": {},
     "output_type": "execute_result"
    }
   ],
   "source": [
    "model.classes_"
   ]
  },
  {
   "cell_type": "code",
   "execution_count": 24,
   "metadata": {
    "collapsed": true
   },
   "outputs": [],
   "source": [
    "predicted"
   ]
  },
  {
   "cell_type": "code",
   "execution_count": 146,
   "metadata": {
    "collapsed": true
   },
   "outputs": [],
   "source": [
    "cl_ml_biz['proba_biz'] = predicted[:,0]\n",
    "cl_ml_biz['proba_ml'] = predicted[:,1]\n",
    "cl_ml_biz.drop('proba', axis=1, inplace=True)"
   ]
  },
  {
   "cell_type": "code",
   "execution_count": 25,
   "metadata": {
    "collapsed": true,
    "scrolled": true
   },
   "outputs": [],
   "source": [
    "cl_ml_biz"
   ]
  },
  {
   "cell_type": "code",
   "execution_count": 363,
   "metadata": {
    "collapsed": true
   },
   "outputs": [],
   "source": [
    "# This function, when given a url will return the proba of it either being a Machine Learning or\n",
    "# a Business Solutions article\n",
    "\n",
    "def cat_proba(url):\n",
    "\n",
    "    url_list = url.split('/')\n",
    "    url_list[-1]\n",
    "\n",
    "#########################################################\n",
    "    \n",
    "    baseurl = 'http://en.wikipedia.org/w/api.php'\n",
    "\n",
    "    func_atts = {}\n",
    "    func_atts['action'] = 'query'  # action=query\n",
    "    func_atts['prop'] = 'extracts' # prop=info\n",
    "    func_atts['format'] = 'json'   # format=json\n",
    "    func_atts['titles'] = '{}'.format(url_list[-1])\n",
    "    func_atts['explaintext'] = 'True'\n",
    "\n",
    "#########################################################\n",
    "\n",
    "    resp = requests.get(baseurl, params = func_atts)\n",
    "    data = resp.json()\n",
    "\n",
    "    page_id = list(data['query']['pages'].keys())[0]\n",
    "    data_dict = data['query']['pages'][page_id]['extract']\n",
    "    \n",
    "    matrix = tfidf_vectorizer.transform([cleaner(data_dict)])\n",
    "    \n",
    "    predict_result = model.predict_proba(matrix)[0]\n",
    "    \n",
    "    \n",
    "    predict_dict = {}\n",
    "\n",
    "    \n",
    "    predict_result = list(predict_result) \n",
    "    model_result = list(model.classes_)\n",
    "    \n",
    "    for a,b in zip(model_result,predict_result):\n",
    "        predict_dict[a] = round(b *100,1)\n",
    "    \n",
    "    return predict_dict\n"
   ]
  },
  {
   "cell_type": "code",
   "execution_count": 364,
   "metadata": {},
   "outputs": [
    {
     "data": {
      "text/plain": [
       "{'business software': 0.10000000000000001,\n",
       " 'machine learning': 99.900000000000006}"
      ]
     },
     "execution_count": 364,
     "metadata": {},
     "output_type": "execute_result"
    }
   ],
   "source": [
    "# This is a test - IT WORKED!\n",
    "\n",
    "cat_proba('https://en.wikipedia.org/wiki/Machine_learning')"
   ]
  }
 ],
 "metadata": {
  "kernelspec": {
   "display_name": "Python 3",
   "language": "python",
   "name": "python3"
  },
  "language_info": {
   "codemirror_mode": {
    "name": "ipython",
    "version": 3
   },
   "file_extension": ".py",
   "mimetype": "text/x-python",
   "name": "python",
   "nbconvert_exporter": "python",
   "pygments_lexer": "ipython3",
   "version": "3.5.2"
  }
 },
 "nbformat": 4,
 "nbformat_minor": 2
}
